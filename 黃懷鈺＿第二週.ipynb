{
 "cells": [
  {
   "cell_type": "code",
   "execution_count": 1,
   "metadata": {},
   "outputs": [
    {
     "name": "stdout",
     "output_type": "stream",
     "text": [
      "Populating the interactive namespace from numpy and matplotlib\n"
     ]
    }
   ],
   "source": [
    "%pylab inline"
   ]
  },
  {
   "cell_type": "code",
   "execution_count": 7,
   "metadata": {},
   "outputs": [
    {
     "name": "stdout",
     "output_type": "stream",
     "text": [
      "請輸入數字20\n",
      "太小了！換一個數字！\n",
      "請輸入數字30\n",
      "太大了！換一個數字！\n",
      "請輸入數字25\n",
      "太大了！換一個數字！\n",
      "請輸入數字23\n",
      "太大了！換一個數字！\n",
      "請輸入數字22\n",
      "太大了！換一個數字！\n",
      "請輸入數字21\n",
      "BINGO!\n"
     ]
    }
   ],
   "source": [
    "A = randint(1, 51)\n",
    "B = float(input(\"請輸入數字\"))\n",
    "while B != A:\n",
    "    if B > A:\n",
    "        print(\"太大了！換一個數字！\")\n",
    "        B = float(input(\"請輸入數字\"))\n",
    "    elif B < A:\n",
    "        print(\"太小了！換一個數字！\")\n",
    "        B = float(input(\"請輸入數字\"))\n",
    "print(\"BINGO!\")"
   ]
  },
  {
   "cell_type": "markdown",
   "metadata": {},
   "source": [
    "# 第二題"
   ]
  },
  {
   "cell_type": "code",
   "execution_count": null,
   "metadata": {},
   "outputs": [
    {
     "name": "stdout",
     "output_type": "stream",
     "text": [
      ">> c9 \n",
      "感恩師傅，讚嘆師傅\n",
      ">> 哈囉\n",
      "感恩師傅，讚嘆師傅\n",
      ">> 安安\n",
      "感恩師傅，讚嘆師傅\n"
     ]
    }
   ],
   "source": [
    "name = \"師傅\"\n",
    "slogan = \"感恩{}，讚嘆{}\".format(name, name)\n",
    "while message != input(\">> \"):\n",
    "    print(message)"
   ]
  },
  {
   "cell_type": "markdown",
   "metadata": {},
   "source": [
    "# 第三題"
   ]
  },
  {
   "cell_type": "code",
   "execution_count": 1,
   "metadata": {},
   "outputs": [
    {
     "name": "stdout",
     "output_type": "stream",
     "text": [
      "請輸入想要反轉的字串政大可不可以不下雨\n"
     ]
    },
    {
     "data": {
      "text/plain": [
       "'雨下不以可不可大政'"
      ]
     },
     "execution_count": 1,
     "metadata": {},
     "output_type": "execute_result"
    }
   ],
   "source": [
    "def reverse():\n",
    "    x = input(\"請輸入想要反轉的字串\")\n",
    "    return(x[::-1])\n",
    "reverse()"
   ]
  },
  {
   "cell_type": "markdown",
   "metadata": {},
   "source": [
    "# 挑戰題一"
   ]
  },
  {
   "cell_type": "code",
   "execution_count": 5,
   "metadata": {},
   "outputs": [
    {
     "name": "stdout",
     "output_type": "stream",
     "text": [
      "2014是甲午年\n",
      "2015是乙未年\n",
      "2016是丙申年\n",
      "2017是丁酉年\n",
      "2018是戊戌年\n",
      "2019是己亥年\n",
      "2020是庚子年\n",
      "2021是辛丑年\n",
      "2022是壬寅年\n",
      "2023是癸卯年\n",
      "2024是甲辰年\n",
      "2025是乙巳年\n",
      "2026是丙午年\n",
      "2027是丁未年\n",
      "2028是戊申年\n",
      "2029是己酉年\n",
      "2030是庚戌年\n",
      "2031是辛亥年\n",
      "2032是壬子年\n",
      "2033是癸丑年\n",
      "2034是甲寅年\n",
      "2035是乙卯年\n",
      "2036是丙辰年\n",
      "2037是丁巳年\n",
      "2038是戊午年\n",
      "2039是己未年\n",
      "2040是庚申年\n",
      "2041是辛酉年\n",
      "2042是壬戌年\n",
      "2043是癸亥年\n",
      "2044是甲子年\n",
      "2045是乙丑年\n",
      "2046是丙寅年\n",
      "2047是丁卯年\n",
      "2048是戊辰年\n",
      "2049是己巳年\n",
      "2050是庚午年\n",
      "2051是辛未年\n",
      "2052是壬申年\n",
      "2053是癸酉年\n",
      "2054是甲戌年\n",
      "2055是乙亥年\n",
      "2056是丙子年\n",
      "2057是丁丑年\n",
      "2058是戊寅年\n",
      "2059是己卯年\n",
      "2060是庚辰年\n",
      "2061是辛巳年\n",
      "2062是壬午年\n",
      "2063是癸未年\n",
      "2064是甲申年\n",
      "2065是乙酉年\n",
      "2066是丙戌年\n",
      "2067是丁亥年\n",
      "2068是戊子年\n",
      "2069是己丑年\n",
      "2070是庚寅年\n",
      "2071是辛卯年\n",
      "2072是壬辰年\n",
      "2073是癸巳年\n"
     ]
    }
   ],
   "source": [
    "A = \"甲乙丙丁戊己庚辛壬癸\"\n",
    "B = \"子丑寅卯辰巳午未申酉戌亥\"\n",
    "for i in range (2014, 2074):\n",
    "    print(\"{}是{}{}年\".format(i, A[(i-4)%10], B[(i-4)%12]))"
   ]
  },
  {
   "cell_type": "code",
   "execution_count": null,
   "metadata": {},
   "outputs": [],
   "source": []
  }
 ],
 "metadata": {
  "kernelspec": {
   "display_name": "Python 3",
   "language": "python",
   "name": "python3"
  },
  "language_info": {
   "codemirror_mode": {
    "name": "ipython",
    "version": 3
   },
   "file_extension": ".py",
   "mimetype": "text/x-python",
   "name": "python",
   "nbconvert_exporter": "python",
   "pygments_lexer": "ipython3",
   "version": "3.7.4"
  }
 },
 "nbformat": 4,
 "nbformat_minor": 2
}
